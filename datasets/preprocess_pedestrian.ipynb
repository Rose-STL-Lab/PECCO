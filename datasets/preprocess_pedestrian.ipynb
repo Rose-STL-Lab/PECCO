{
 "cells": [
  {
   "cell_type": "code",
   "execution_count": null,
   "id": "36dd453e",
   "metadata": {},
   "outputs": [],
   "source": [
    "import pandas as pd\n",
    "import numpy as np\n",
    "import ndjson\n",
    "import os\n",
    "import sys\n",
    "import pickle\n",
    "from glob import glob\n",
    "from tqdm import tqdm\n",
    "import trajnetplusplustools\n",
    "import matplotlib.pyplot as plt\n",
    "from matplotlib.animation import FuncAnimation\n",
    "%matplotlib inline"
   ]
  },
  {
   "cell_type": "code",
   "execution_count": null,
   "id": "ade66f71",
   "metadata": {},
   "outputs": [],
   "source": [
    "class FeatUtil(object):\n",
    "    @classmethod\n",
    "    def expand_dim(cls, ndarr, dtype=np.float32):\n",
    "        return np.insert(ndarr, 2, values=0, axis=-1).astype(dtype)\n",
    "    \n",
    "    @classmethod\n",
    "    def inter_one_man(cls, pos):\n",
    "        return pd.DataFrame(pos).interpolate(limit_direction='both').values[:,np.newaxis,:]\n",
    "    \n",
    "    @classmethod\n",
    "    def calc_vel(cls, pos):\n",
    "        return np.diff(pos, axis=0)[:,np.newaxis,:]\n",
    "    \n",
    "    @classmethod\n",
    "    def expand_particle(cls, arr, max_num, axis, value_type='int'):\n",
    "        dummy_shape = list(arr.shape)\n",
    "        if max_num <= arr.shape[axis]:\n",
    "            return arr[:max_num,...]\n",
    "        else:\n",
    "            dummy_shape[axis] = max_num - arr.shape[axis]\n",
    "            dummy = np.zeros(dummy_shape)\n",
    "            if value_type == 'str':\n",
    "                dummy = np.array(['dummy' + str(i) for i in range(np.product(dummy_shape))]).reshape(dummy_shape)\n",
    "            return np.concatenate([arr, dummy], axis=axis)\n",
    "    \n",
    "    def __call__(self, pos):\n",
    "        feat = {}\n",
    "        \n",
    "        # pos = np.concatenate([self.inter_one_man(pos[:,i,:]) for i in range(pos.shape[1])], axis=1)\n",
    "        \n",
    "        # drop distant drop nan\n",
    "        pos, _ = drop_distant(pos)\n",
    "        pos = pos[:,~np.isnan(pos).any(0).any(-1)].transpose(1,0,2)\n",
    "        \n",
    "        # vel = np.concatenate([self.calc_vel(pos[:,i,:]) for i in range(pos.shape[1])], axis=1)\n",
    "        vel = np.diff(pos, axis=1)\n",
    "        pos = pos[:,1:]\n",
    "        \n",
    "        mask = np.zeros(160)\n",
    "        mask[:pos.shape[0]] = 1\n",
    "        feat['man_mask'] = mask\n",
    "        \n",
    "        pos = self.expand_particle(pos, 40, 0)\n",
    "        #pos = self.expand_dim(pos)\n",
    "        vel = self.expand_particle(vel, 40, 0)\n",
    "        #vel = self.expand_dim(vel)\n",
    "        \n",
    "        # pos = pos.transpose(1,0,2)\n",
    "        # vel = vel.transpose(1,0,2)\n",
    "        \n",
    "        feat['pos_enc'] = pos[:,:7]\n",
    "        feat['vel_enc'] = vel[:,:7]\n",
    "        \n",
    "        for i in range(7, pos.shape[1]):\n",
    "            feat['pos'+str(i-7)] = pos[:,i,:]\n",
    "            feat['vel'+str(i-7)] = vel[:,i,:]\n",
    "            \n",
    "        return feat\n",
    "\n",
    "def drop_distant(xy, r=6.0):\n",
    "    \"\"\"\n",
    "    Drops pedestrians more than r meters away from primary ped\n",
    "    \"\"\"\n",
    "    distance_2 = np.sum(np.square(xy - xy[:, 0:1]), axis=2)\n",
    "    mask = np.nanmin(distance_2, axis=0) < r**2\n",
    "    return xy[:, mask], mask"
   ]
  },
  {
   "cell_type": "code",
   "execution_count": null,
   "id": "a8318804",
   "metadata": {},
   "outputs": [],
   "source": [
    "feat_util = FeatUtil()"
   ]
  },
  {
   "cell_type": "code",
   "execution_count": null,
   "id": "42e67652",
   "metadata": {},
   "outputs": [],
   "source": [
    "trainsource = '../pedestrian/train/real_data/'\n",
    "\n",
    "file_list = glob(trainsource+ '*') \n",
    "for f in tqdm(file_list):\n",
    "    reader = trajnetplusplustools.Reader(f, scene_type='paths')\n",
    "    file_name = os.path.split(f)[1].split('.')[0]\n",
    "    \n",
    "    for s_id, s in reader.scenes():\n",
    "        pos0 = trajnetplusplustools.Reader.paths_to_xy(s)\n",
    "        feat = feat_util(pos0)\n",
    "        feat['scene_idx'] = file_name + '_{}'.format(s_id)\n",
    "        with open('../pedestrian/processed/train/' + file_name + '_{}.pkl'.format(s_id), 'wb') as f:\n",
    "            pickle.dump(feat, f)"
   ]
  },
  {
   "cell_type": "code",
   "execution_count": null,
   "id": "0ee47df2",
   "metadata": {},
   "outputs": [],
   "source": [
    "testsource = '../pedestrian/test/real_data/'\n",
    "\n",
    "file_list = glob(testsource+ '*') \n",
    "for f in tqdm(file_list):\n",
    "    reader = trajnetplusplustools.Reader(f, scene_type='paths')\n",
    "    file_name = os.path.split(f)[1].split('.')[0]\n",
    "    \n",
    "    for s_id, s in reader.scenes():\n",
    "        pos0 = trajnetplusplustools.Reader.paths_to_xy(s)\n",
    "        feat = feat_util(pos0)\n",
    "        break\n",
    "        feat['scene_idx'] = file_name + '_{}'.format(s_id)\n",
    "        with open('../pedestrian/processed/val/' + file_name + '_{}.pkl'.format(s_id), 'wb') as f:\n",
    "            pickle.dump(feat, f)"
   ]
  },
  {
   "cell_type": "code",
   "execution_count": null,
   "id": "9a3726a6",
   "metadata": {},
   "outputs": [],
   "source": [
    "\n"
   ]
  }
 ],
 "metadata": {
  "kernelspec": {
   "display_name": "pecco",
   "language": "python",
   "name": "pecco"
  },
  "language_info": {
   "codemirror_mode": {
    "name": "ipython",
    "version": 3
   },
   "file_extension": ".py",
   "mimetype": "text/x-python",
   "name": "python",
   "nbconvert_exporter": "python",
   "pygments_lexer": "ipython3",
   "version": "3.7.11"
  }
 },
 "nbformat": 4,
 "nbformat_minor": 5
}
